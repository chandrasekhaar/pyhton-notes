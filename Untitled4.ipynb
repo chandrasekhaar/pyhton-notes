{
  "nbformat": 4,
  "nbformat_minor": 0,
  "metadata": {
    "colab": {
      "provenance": [],
      "authorship_tag": "ABX9TyMGl3c43m5Xgqmzvwrc+E9F",
      "include_colab_link": true
    },
    "kernelspec": {
      "name": "python3",
      "display_name": "Python 3"
    },
    "language_info": {
      "name": "python"
    }
  },
  "cells": [
    {
      "cell_type": "markdown",
      "metadata": {
        "id": "view-in-github",
        "colab_type": "text"
      },
      "source": [
        "<a href=\"https://colab.research.google.com/github/chandrasekhaar/pyhton-notes/blob/main/Untitled4.ipynb\" target=\"_parent\"><img src=\"https://colab.research.google.com/assets/colab-badge.svg\" alt=\"Open In Colab\"/></a>"
      ]
    },
    {
      "cell_type": "code",
      "execution_count": 4,
      "metadata": {
        "id": "mOfFceQoFYzx"
      },
      "outputs": [],
      "source": [
        "#\n",
        "def mul(a,b):\n",
        " print(a*b)\n",
        " mul(10,1000)"
      ]
    },
    {
      "cell_type": "markdown",
      "source": [
        "List comprehension"
      ],
      "metadata": {
        "id": "XqmI8CRVGYbz"
      }
    },
    {
      "cell_type": "code",
      "source": [
        "# LC offers a smaller line of code so you can create  new _list\n",
        "fruits=[\"apple\",\"banana\",\"cherry\",\"grapes\",\"mango\"]\n",
        "new_list=[]\n",
        "for i in fruits:\n",
        "  if \"a\"in i:\n",
        "    new_list.append(i)\n",
        "  print(new_list)"
      ],
      "metadata": {
        "colab": {
          "base_uri": "https://localhost:8080/"
        },
        "id": "laO2M6NwGPwk",
        "outputId": "45098df7-51f4-470b-dd03-e36570446a26"
      },
      "execution_count": 5,
      "outputs": [
        {
          "output_type": "stream",
          "name": "stdout",
          "text": [
            "['apple']\n",
            "['apple', 'banana']\n",
            "['apple', 'banana']\n",
            "['apple', 'banana', 'grapes']\n",
            "['apple', 'banana', 'grapes', 'mango']\n"
          ]
        }
      ]
    },
    {
      "cell_type": "code",
      "source": [
        "#write a program to even numers in list?\n",
        "list=[1,2,3,4,5,6,7,8,9]\n",
        "new= [i for i in list if i%2==0]\n",
        "print(new)"
      ],
      "metadata": {
        "colab": {
          "base_uri": "https://localhost:8080/"
        },
        "id": "Guq8xfc8IoZT",
        "outputId": "501dcd89-f1fd-40c1-fb8e-4a1f2164cf11"
      },
      "execution_count": 7,
      "outputs": [
        {
          "output_type": "stream",
          "name": "stdout",
          "text": [
            "[2, 4, 6, 8]\n"
          ]
        }
      ]
    },
    {
      "cell_type": "code",
      "source": [
        "#print new list whre it doesn't have bananain it?\n",
        "a=['apple','banana','mango','kiwi','grapes']\n",
        "new=[i for i in a if 'banana' not in i]\n",
        "print(new)"
      ],
      "metadata": {
        "colab": {
          "base_uri": "https://localhost:8080/"
        },
        "id": "DXvBWo1gJwXM",
        "outputId": "f6d5e23e-5c59-40c6-db0b-41c02da95de6"
      },
      "execution_count": 8,
      "outputs": [
        {
          "output_type": "stream",
          "name": "stdout",
          "text": [
            "['apple', 'mango', 'kiwi', 'grapes']\n"
          ]
        }
      ]
    },
    {
      "cell_type": "code",
      "source": [
        "#using the steing method in the lc\n",
        "a=['apple','banana','mango','kiwi','grapes']\n",
        "new=[i.upper() for i in a]\n",
        "print(new)"
      ],
      "metadata": {
        "colab": {
          "base_uri": "https://localhost:8080/"
        },
        "id": "iB71pff7KwX8",
        "outputId": "fdc28acb-003c-4aa7-e67f-5fed77709c48"
      },
      "execution_count": 9,
      "outputs": [
        {
          "output_type": "stream",
          "name": "stdout",
          "text": [
            "['APPLE', 'BANANA', 'MANGO', 'KIWI', 'GRAPES']\n"
          ]
        }
      ]
    },
    {
      "cell_type": "code",
      "source": [
        "#replace banana with orange by using lc?\n",
        "fruits=['apple','banana','mango','kiwi','grapes']\n",
        "new=[i.replace('banana','orange')for i in fruits]\n",
        "print(new)"
      ],
      "metadata": {
        "colab": {
          "base_uri": "https://localhost:8080/"
        },
        "id": "o_TevzLJLYgE",
        "outputId": "d914ea01-f240-4839-a6ca-6d2fe0917789"
      },
      "execution_count": 10,
      "outputs": [
        {
          "output_type": "stream",
          "name": "stdout",
          "text": [
            "['apple', 'orange', 'mango', 'kiwi', 'grapes']\n"
          ]
        }
      ]
    },
    {
      "cell_type": "code",
      "source": [
        "#print the range of numbers upto 20 in list?\n",
        "n=[i for i in range(20)]\n",
        "print(n)"
      ],
      "metadata": {
        "colab": {
          "base_uri": "https://localhost:8080/"
        },
        "id": "BnTdEwbhMW3Z",
        "outputId": "721e3219-6a58-48e4-d5b8-82a5cb552ab4"
      },
      "execution_count": 12,
      "outputs": [
        {
          "output_type": "stream",
          "name": "stdout",
          "text": [
            "[0, 1, 2, 3, 4, 5, 6, 7, 8, 9, 10, 11, 12, 13, 14, 15, 16, 17, 18, 19]\n"
          ]
        }
      ]
    },
    {
      "cell_type": "markdown",
      "source": [
        "LAMDA"
      ],
      "metadata": {
        "id": "soRoRIdxNRdU"
      }
    },
    {
      "cell_type": "code",
      "source": [
        "# lamda is a small anonymous functtion\n",
        "#function without name\n",
        "def f1(x):\n",
        "  return x\n",
        "print(f1(10))"
      ],
      "metadata": {
        "colab": {
          "base_uri": "https://localhost:8080/"
        },
        "id": "OpHAJywLNQfq",
        "outputId": "32400731-e4e3-4cda-df08-52e7bb080389"
      },
      "execution_count": 14,
      "outputs": [
        {
          "output_type": "stream",
          "name": "stdout",
          "text": [
            "10\n"
          ]
        }
      ]
    },
    {
      "cell_type": "code",
      "source": [
        "def x(a):\n",
        "  return(a)\n",
        "print(x(10000))"
      ],
      "metadata": {
        "colab": {
          "base_uri": "https://localhost:8080/"
        },
        "id": "Ps8ScYASPK8m",
        "outputId": "d266b6fd-1083-4bca-9a51-ceb7f3e192b4"
      },
      "execution_count": 17,
      "outputs": [
        {
          "output_type": "stream",
          "name": "stdout",
          "text": [
            "10000\n"
          ]
        }
      ]
    },
    {
      "cell_type": "markdown",
      "source": [
        "#syntax for lambda\n",
        "lambda arguements::exprssion"
      ],
      "metadata": {
        "id": "Vez17_ZsRJVr"
      }
    },
    {
      "cell_type": "code",
      "source": [
        "#lambda is anonmoes function where it can have many expression and 1 expression/"
      ],
      "metadata": {
        "id": "CbgOVWAZS2zG"
      },
      "execution_count": null,
      "outputs": []
    },
    {
      "cell_type": "code",
      "source": [
        "#what is expression\n",
        "#some statement/calculations/step using method\n",
        "x=lambda a:a+10\n",
        "print(x(5))"
      ],
      "metadata": {
        "colab": {
          "base_uri": "https://localhost:8080/"
        },
        "id": "wVBpkguURhJw",
        "outputId": "571177b0-9687-45aa-90d3-9218e7eca3f1"
      },
      "execution_count": 18,
      "outputs": [
        {
          "output_type": "stream",
          "name": "stdout",
          "text": [
            "15\n"
          ]
        }
      ]
    },
    {
      "cell_type": "code",
      "source": [
        "#take many arguments\n",
        "x=lambda a,b,c:a+b+c\n",
        "print(x(10,20,30))"
      ],
      "metadata": {
        "colab": {
          "base_uri": "https://localhost:8080/"
        },
        "id": "iF7xLVwZSclJ",
        "outputId": "e4c8d4e8-ea21-4acd-d8ad-50abb27d6eef"
      },
      "execution_count": 19,
      "outputs": [
        {
          "output_type": "stream",
          "name": "stdout",
          "text": [
            "60\n"
          ]
        }
      ]
    },
    {
      "cell_type": "code",
      "source": [
        "#create diff function i..e\n",
        "#square\n",
        "#cube\n",
        "#four\n",
        "#sqrt-->0.5\n",
        "def square(y):\n",
        "  return y**2\n",
        "def cube(y):\n",
        "    return y**3\n",
        "def four(y):\n",
        "      return y**4\n",
        "def sqrt(y):\n",
        "  return y**0.5\n",
        "print(square(5))\n",
        "print(cube(5))\n",
        "print(four(5))\n",
        "print(sqrt(5))\n",
        ""
      ],
      "metadata": {
        "colab": {
          "base_uri": "https://localhost:8080/"
        },
        "id": "ejvUPun3TXni",
        "outputId": "7b08472e-6829-46d2-fbca-ae246f8b829c"
      },
      "execution_count": 32,
      "outputs": [
        {
          "output_type": "stream",
          "name": "stdout",
          "text": [
            "25\n",
            "125\n",
            "625\n",
            "2.23606797749979\n"
          ]
        }
      ]
    },
    {
      "cell_type": "code",
      "source": [
        "h=2**13\n",
        "print(h)"
      ],
      "metadata": {
        "colab": {
          "base_uri": "https://localhost:8080/"
        },
        "id": "GdnMUCQwXtnC",
        "outputId": "cc3b461a-3ede-4381-84d6-10f39c279451"
      },
      "execution_count": 37,
      "outputs": [
        {
          "output_type": "stream",
          "name": "stdout",
          "text": [
            "8192\n"
          ]
        }
      ]
    },
    {
      "cell_type": "code",
      "source": [
        "e=\"crypto\"\n",
        "print(e.upper())"
      ],
      "metadata": {
        "colab": {
          "base_uri": "https://localhost:8080/"
        },
        "id": "RyW3JaBJYQlD",
        "outputId": "8d477066-0a50-4213-c8bd-6eb85fde92c1"
      },
      "execution_count": 39,
      "outputs": [
        {
          "output_type": "stream",
          "name": "stdout",
          "text": [
            "CRYPTO\n"
          ]
        }
      ]
    },
    {
      "cell_type": "code",
      "source": [
        "#types of variable\n",
        "# global variable:- create a variale outsode the function\n",
        "#local variable:-create a variable inside the function\n",
        "def f1():\n",
        "  x=10\n",
        "  print(x)\n",
        "f1()"
      ],
      "metadata": {
        "id": "YggEGw3DY1ng"
      },
      "execution_count": null,
      "outputs": []
    }
  ]
}